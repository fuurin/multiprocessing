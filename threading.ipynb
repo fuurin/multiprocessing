{
 "cells": [
  {
   "cell_type": "markdown",
   "metadata": {},
   "source": [
    "参考: [[Python] スレッドで実装する](https://qiita.com/tchnkmr/items/b05f321fa315bbce4f77)"
   ]
  },
  {
   "cell_type": "markdown",
   "metadata": {},
   "source": [
    "### スレッド(threading)"
   ]
  },
  {
   "cell_type": "markdown",
   "metadata": {},
   "source": [
    "multiprocessingがコアを複数使った処理なのに対し，Threadingはメモリをたくさん使う"
   ]
  },
  {
   "cell_type": "code",
   "execution_count": 1,
   "metadata": {},
   "outputs": [
    {
     "name": "stdout",
     "output_type": "stream",
     "text": [
      "うどんを作ります。\n",
      "  うどんを茹でます。\n",
      "  ツユをつくります。\n",
      "  ツユができました。\n",
      "  うどんが茹であがりました。\n",
      "盛り付けます。\n",
      "うどんができました。\n"
     ]
    }
   ],
   "source": [
    "import time\n",
    "import threading\n",
    "\n",
    "def boil_udon():\n",
    "    print('  うどんを茹でます。')\n",
    "    time.sleep(3)\n",
    "    print('  うどんが茹であがりました。')\n",
    "\n",
    "def make_tuyu():\n",
    "    print('  ツユをつくります。')\n",
    "    time.sleep(2)\n",
    "    print('  ツユができました。')\n",
    "\n",
    "print('うどんを作ります。')\n",
    "\n",
    "thread1 = threading.Thread(target=boil_udon)\n",
    "thread2 = threading.Thread(target=make_tuyu)\n",
    "\n",
    "thread1.start()\n",
    "thread2.start()\n",
    "\n",
    "thread1.join() # thread1が終わるまで待つ\n",
    "thread2.join() # thread2が終わるまで待つ\n",
    "\n",
    "print('盛り付けます。')\n",
    "print('うどんができました。')"
   ]
  },
  {
   "cell_type": "markdown",
   "metadata": {},
   "source": [
    "### スレッドプール(ThreadPoolExecutor)\n",
    "一つのコアであまりにもたくさんのスレッドを立ててしまうと，かえって処理速度が落ちたり，メモリを無駄に食ったりする．  \n",
    "  \n",
    "そこで，一度に立てられるスレッドの数を制限する"
   ]
  },
  {
   "cell_type": "code",
   "execution_count": 2,
   "metadata": {},
   "outputs": [
    {
     "name": "stdout",
     "output_type": "stream",
     "text": [
      "うどんを10個茹でます。\n",
      "  うどんを茹でます。\n",
      "  うどんを茹でます。\n",
      "  うどんを茹でます。\n",
      "  うどんが茹であがりました。\n",
      "  うどんを茹でます。\n",
      "  うどんが茹であがりました。  うどんが茹であがりました。\n",
      "  うどんを茹でます。\n",
      "\n",
      "  うどんを茹でます。\n",
      "  うどんが茹であがりました。\n",
      "  うどんを茹でます。\n",
      "  うどんが茹であがりました。  うどんが茹であがりました。\n",
      "  うどんを茹でます。\n",
      "\n",
      "  うどんを茹でます。\n",
      "  うどんが茹であがりました。\n",
      "  うどんを茹でます。\n",
      "  うどんが茹であがりました。\n",
      "  うどんが茹であがりました。\n",
      "  うどんが茹であがりました。\n",
      "うどんが10個茹で上がりました。\n"
     ]
    }
   ],
   "source": [
    "from concurrent.futures import ThreadPoolExecutor\n",
    "import time\n",
    "\n",
    "def boil_udon():\n",
    "    print('  うどんを茹でます。')\n",
    "    time.sleep(3)\n",
    "    print('  うどんが茹であがりました。')\n",
    "\n",
    "# 1度にゆでられるうどんは3玉\n",
    "tpe = ThreadPoolExecutor(max_workers=3)\n",
    "\n",
    "print('うどんを10個茹でます。')\n",
    "for _ in range(10):\n",
    "    tpe.submit(boil_udon)\n",
    "\n",
    "# tpeに登録した処理が全て終わるまで待つ\n",
    "# 手が空いたら新しいうどんを作るので，最終的に全ての作業を終えられる\n",
    "tpe.shutdown()\n",
    "\n",
    "print('うどんが10個茹で上がりました。')"
   ]
  },
  {
   "cell_type": "markdown",
   "metadata": {},
   "source": [
    "### Future\n",
    "submitメソッドの戻り値はFutureである  \n",
    "Futureのresultメソッドを呼び出すと\n",
    "- 処理がおわっている → 戻り値を取得\n",
    "- 処理が終わっていない → 終わるまで待ち，戻り値を取得\n",
    "    - 指定したtimeoutの時間を上回る → 例外を発生\n",
    "  \n",
    "他にもFutureでは\n",
    "- running: スレッドが実行中ならTrue\n",
    "- done: スレッドが終了していればTrue"
   ]
  },
  {
   "cell_type": "code",
   "execution_count": 3,
   "metadata": {},
   "outputs": [
    {
     "name": "stdout",
     "output_type": "stream",
     "text": [
      "たぬきうどん オーダー入りました。\n",
      "  たぬきうどんを作ります。かけうどん オーダー入りました。\n",
      "\n",
      "  かけうどんを作ります。\n",
      "ざるうどん オーダー入りました。\n",
      "  ざるうどんを作ります。\n",
      "きつねうどん オーダー入りました。\n",
      "天ぷらうどん オーダー入りました。\n",
      "肉うどん オーダー入りました。\n",
      "  きつねうどんを作ります。  天ぷらうどんを作ります。  肉うどんを作ります。たぬきうどんお待たせしました。\n",
      "\n",
      "\n",
      "\n",
      "かけうどんお待たせしました。\n",
      "ざるうどんお待たせしました。\n",
      "きつねうどんお待たせしました。\n",
      "天ぷらうどんお待たせしました。\n",
      "肉うどんお待たせしました。\n"
     ]
    }
   ],
   "source": [
    "from concurrent.futures import ThreadPoolExecutor\n",
    "import time\n",
    "\n",
    "def make_udon(kind):\n",
    "    print('  %sうどんを作ります。' % kind)\n",
    "    time.sleep(3)\n",
    "    return kind + 'うどん'\n",
    "\n",
    "kinds = ['たぬき', 'かけ', 'ざる', 'きつね', '天ぷら', '肉']\n",
    "executor = ThreadPoolExecutor(max_workers=3)\n",
    "futures = []\n",
    "\n",
    "for kind in kinds:\n",
    "    print('%sうどん オーダー入りました。' % kind)\n",
    "    future = executor.submit(make_udon, kind)\n",
    "    futures.append(future)\n",
    "\n",
    "for future in futures:\n",
    "    print('%sお待たせしました。' % future.result())\n",
    "\n",
    "executor.shutdown()"
   ]
  },
  {
   "cell_type": "markdown",
   "metadata": {},
   "source": [
    "以上のような並列処理は\n",
    "- 実装は簡単\n",
    "- デバッグが困難\n",
    "- 最適なスレッド数は見極める必要がある\n",
    "  \n",
    "という特徴があるので注意する"
   ]
  }
 ],
 "metadata": {
  "kernelspec": {
   "display_name": "Python 3",
   "language": "python",
   "name": "python3"
  },
  "language_info": {
   "codemirror_mode": {
    "name": "ipython",
    "version": 3
   },
   "file_extension": ".py",
   "mimetype": "text/x-python",
   "name": "python",
   "nbconvert_exporter": "python",
   "pygments_lexer": "ipython3",
   "version": "3.7.0"
  }
 },
 "nbformat": 4,
 "nbformat_minor": 2
}
