{
 "cells": [
  {
   "cell_type": "markdown",
   "metadata": {},
   "source": [
    "参考: [Python で並列処理(初めての人向け)](http://iatlex.com/python/parallel_first)  "
   ]
  },
  {
   "cell_type": "code",
   "execution_count": 3,
   "metadata": {},
   "outputs": [
    {
     "data": {
      "text/plain": [
       "4"
      ]
     },
     "execution_count": 3,
     "metadata": {},
     "output_type": "execute_result"
    }
   ],
   "source": [
    "import multiprocessing\n",
    "from multiprocessing import Pool\n",
    "\n",
    "multiprocessing.cpu_count()"
   ]
  },
  {
   "cell_type": "markdown",
   "metadata": {},
   "source": [
    "### 一番簡単な形"
   ]
  },
  {
   "cell_type": "code",
   "execution_count": 5,
   "metadata": {},
   "outputs": [
    {
     "name": "stdout",
     "output_type": "stream",
     "text": [
      "0\n",
      "1\n",
      "4\n",
      "16\n",
      "25\n",
      "9\n",
      "36\n",
      "49\n",
      "81\n",
      "64\n"
     ]
    },
    {
     "data": {
      "text/plain": [
       "[None, None, None, None, None, None, None, None, None, None]"
      ]
     },
     "execution_count": 5,
     "metadata": {},
     "output_type": "execute_result"
    }
   ],
   "source": [
    "def square(x):                        # 引数が1つの関数から扱ってみる\n",
    "    print(x * x)\n",
    "\n",
    "p = Pool(4)                             # 4つのコアを使って\n",
    "p.map(square, range(10))   # 0 ~ 9までの2乗計算を並列で実行"
   ]
  },
  {
   "cell_type": "markdown",
   "metadata": {},
   "source": [
    "このように，並列計算は終わる順番が決まっているわけではないことに注意する  \n",
    "なお，Poolに引数を指定しなければcpu_countの個数使う"
   ]
  },
  {
   "cell_type": "markdown",
   "metadata": {},
   "source": [
    "### 引数が複数の関数の並列化"
   ]
  },
  {
   "cell_type": "code",
   "execution_count": 7,
   "metadata": {},
   "outputs": [
    {
     "data": {
      "text/plain": [
       "[0, 3, 6, 9, 12, 15, 18, 21, 24, 27]"
      ]
     },
     "execution_count": 7,
     "metadata": {},
     "output_type": "execute_result"
    }
   ],
   "source": [
    "def times(a, b):\n",
    "    return a * b\n",
    "\n",
    "def wrapper_times(args):             # 複数の値を渡すにはラッパーが必要\n",
    "    return times(*args)                    # mapは1つの引数の関数しか基本的に扱えない\n",
    "\n",
    "args = [[i, 3] for i in range(10)]   # 0 ~ 9の値を三倍\n",
    "p = Pool(processes = 2)                # 2並行で処理\n",
    "p.map(wrapper_times, args)        # 実行結果はリストで帰ってくる"
   ]
  },
  {
   "cell_type": "markdown",
   "metadata": {},
   "source": [
    "[Python高速化 【multiprocessing】【並列処理】](https://qiita.com/taka-kawa/items/d1fc1bc0acb3a6ca3031)曰く  \n",
    "- ある程度重い処理でなければ並列かの恩恵を受けられない"
   ]
  },
  {
   "cell_type": "markdown",
   "metadata": {},
   "source": [
    "以下参考: [Python並列処理(multiprocessingとJoblib)](https://qiita.com/yukiB/items/203a6248c2d466b80d38)"
   ]
  },
  {
   "cell_type": "code",
   "execution_count": 1,
   "metadata": {},
   "outputs": [
    {
     "name": "stderr",
     "output_type": "stream",
     "text": [
      "[Parallel(n_jobs=-1)]: Using backend LokyBackend with 4 concurrent workers.\n",
      "[Parallel(n_jobs=-1)]: Done  10 tasks      | elapsed:    0.4s\n",
      "[Parallel(n_jobs=-1)]: Done 860 tasks      | elapsed:   16.7s\n",
      "[Parallel(n_jobs=-1)]: Done 1000 out of 1000 | elapsed:   22.2s finished\n"
     ]
    }
   ],
   "source": [
    "from joblib import Parallel, delayed\n",
    "\n",
    "def process(i):\n",
    "    return [{'id': j, 'sum': sum(range(i * j))} for j in range(100)]\n",
    "\n",
    "result = Parallel(n_jobs=-1, verbose=5)( # -1でコア数全て, verboseは0~10の頻度の度合い\n",
    "    [delayed(process)(n) for n in range(1000)] # delayedは非同期処理\n",
    ")"
   ]
  },
  {
   "cell_type": "markdown",
   "metadata": {},
   "source": [
    "次のように，複数の値を直接受け取れたり，リスト以外の値も受け取ることができるのがjoblibの利点である．"
   ]
  },
  {
   "cell_type": "code",
   "execution_count": null,
   "metadata": {},
   "outputs": [],
   "source": [
    "strs = ['a', 'b', 'c']\n",
    "result = Parallel(n_jobs=job)([delayed(process)(i,s) for i,s in enumerate(strs * 1000)])"
   ]
  },
  {
   "cell_type": "markdown",
   "metadata": {},
   "source": [
    "しかし，測ってみるとmultiprocessingの方が若干早い模様"
   ]
  }
 ],
 "metadata": {
  "kernelspec": {
   "display_name": "Python 3",
   "language": "python",
   "name": "python3"
  },
  "language_info": {
   "codemirror_mode": {
    "name": "ipython",
    "version": 3
   },
   "file_extension": ".py",
   "mimetype": "text/x-python",
   "name": "python",
   "nbconvert_exporter": "python",
   "pygments_lexer": "ipython3",
   "version": "3.7.0"
  }
 },
 "nbformat": 4,
 "nbformat_minor": 2
}
